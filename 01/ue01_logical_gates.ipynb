{
 "cells": [
  {
   "cell_type": "code",
   "execution_count": 1,
   "metadata": {
    "collapsed": true
   },
   "outputs": [],
   "source": [
    "import numpy as np"
   ]
  },
  {
   "cell_type": "markdown",
   "metadata": {},
   "source": [
    "### task description\n",
    "- Implement a neural network to calculate the results of the logical AND, OR and XOR gates.\n",
    "- Input is a combination of two boolean values\n",
    "- Output should be the results of the logical gates with respect to the input combination"
   ]
  },
  {
   "cell_type": "code",
   "execution_count": 2,
   "metadata": {
    "collapsed": true
   },
   "outputs": [],
   "source": [
    "# logistic sigmoid as activation function\n",
    "def sigmoid(x):\n",
    "  return 1 / (1 + np.exp(-x))"
   ]
  },
  {
   "cell_type": "code",
   "execution_count": 3,
   "metadata": {
    "collapsed": true
   },
   "outputs": [],
   "source": [
    "input_set = np.array([[0, 1]])"
   ]
  },
  {
   "cell_type": "code",
   "execution_count": 4,
   "metadata": {
    "collapsed": true
   },
   "outputs": [],
   "source": [
    "# Manual definition of weights and bias values\n",
    "# weights -> nxp-matrix, with\n",
    "# n = number of activation values from the previous layer (for the first layer it is the number of inputs)\n",
    "# p = number of weights (weight values of the \"branches\" from the previous to the next layer)\n",
    "weights_h = np.array([[20, 20, 20, -20], [20, 20, 20, -20]])\n",
    "weights_o = np.array([[30, 1, 1], [1, 30, 1], [1, 1, 20], [1, 1, 20]])\n",
    "\n",
    "# bias -> px1-matrix with p = number of neurons in each layer\n",
    "bias_h = np.array([[-30, -10, -10, 30]])\n",
    "bias_o = np.array([[-15, -15, -30]])"
   ]
  },
  {
   "cell_type": "code",
   "execution_count": 5,
   "metadata": {
    "collapsed": true
   },
   "outputs": [],
   "source": [
    "# Calculation of the activation values for each neuron in each layer\n",
    "# f(sum(x*w + b)), where f is the logistic sigmoid (activation function)\n",
    "hidden_layer = sigmoid(np.dot(weights_h.T, input_set.T) + bias_h.T)\n",
    "output_layer = sigmoid(np.dot(weights_o.T, hidden_layer) + bias_o.T)"
   ]
  },
  {
   "cell_type": "code",
   "execution_count": 6,
   "metadata": {},
   "outputs": [
    {
     "name": "stdout",
     "output_type": "stream",
     "text": [
      "Input: [0 1]\n",
      "NN -> AND: 6.151710349044676e-06\n",
      "NN -> OR: 0.9999999585423208\n",
      "NN -> XOR: 0.999983268222748\n"
     ]
    }
   ],
   "source": [
    "print('Input: ' + str(input_set[0]))\n",
    "print('NN -> AND: ' + str(output_layer[0][0]))\n",
    "print('NN -> OR: ' + str(output_layer[1][0]))\n",
    "print('NN -> XOR: ' + str(output_layer[2][0]))"
   ]
  },
  {
   "cell_type": "code",
   "execution_count": null,
   "metadata": {
    "collapsed": true
   },
   "outputs": [],
   "source": []
  }
 ],
 "metadata": {
  "kernelspec": {
   "display_name": "Python 3",
   "language": "python",
   "name": "python3"
  },
  "language_info": {
   "codemirror_mode": {
    "name": "ipython",
    "version": 3
   },
   "file_extension": ".py",
   "mimetype": "text/x-python",
   "name": "python",
   "nbconvert_exporter": "python",
   "pygments_lexer": "ipython3",
   "version": "3.6.2"
  }
 },
 "nbformat": 4,
 "nbformat_minor": 2
}
